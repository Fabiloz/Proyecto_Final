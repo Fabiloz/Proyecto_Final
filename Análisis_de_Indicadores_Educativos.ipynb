{
 "cells": [
  {
   "cell_type": "markdown",
   "id": "99fb44e6",
   "metadata": {},
   "source": [
    "#  Indicadores Educativos  \n",
    "----ANALISIS PARA ESTABLECER UN OBJETIVO---\n",
    "(Aprobación, Deserción, tasas de cobertura, reprobación y matriculación) "
   ]
  },
  {
   "cell_type": "markdown",
   "id": "96929d71",
   "metadata": {},
   "source": [
    "# 📂1.--- Importar las librerías necesarias ---"
   ]
  },
  {
   "cell_type": "code",
   "execution_count": 71,
   "id": "2b66d569",
   "metadata": {},
   "outputs": [],
   "source": [
    "import pandas as pd\n",
    "import seaborn as sns\n",
    "import matplotlib.pyplot as plt"
   ]
  },
  {
   "cell_type": "markdown",
   "id": "8cdc344c",
   "metadata": {},
   "source": [
    "Esta es una conclusión de ejemplo"
   ]
  },
  {
   "cell_type": "markdown",
   "id": "9387e0a9",
   "metadata": {},
   "source": [
    "# 📥2.--- Carga de datos ---"
   ]
  },
  {
   "cell_type": "code",
   "execution_count": 72,
   "id": "d563a1d0",
   "metadata": {},
   "outputs": [
    {
     "data": {
      "application/vnd.microsoft.datawrangler.viewer.v0+json": {
       "columns": [
        {
         "name": "index",
         "rawType": "int64",
         "type": "integer"
        },
        {
         "name": "AÑO",
         "rawType": "int64",
         "type": "integer"
        },
        {
         "name": "CÓDIGO_MUNICIPIO",
         "rawType": "int64",
         "type": "integer"
        },
        {
         "name": "MUNICIPIO",
         "rawType": "object",
         "type": "string"
        },
        {
         "name": "CÓDIGO_DEPARTAMENTO",
         "rawType": "int64",
         "type": "integer"
        },
        {
         "name": "DEPARTAMENTO",
         "rawType": "object",
         "type": "string"
        },
        {
         "name": "CÓDIGO_ETC",
         "rawType": "float64",
         "type": "float"
        },
        {
         "name": "ETC",
         "rawType": "object",
         "type": "string"
        },
        {
         "name": "POBLACIÓN_5_16",
         "rawType": "object",
         "type": "string"
        },
        {
         "name": "TASA_MATRICULACIÓN_5_16",
         "rawType": "float64",
         "type": "float"
        },
        {
         "name": "COBERTURA_NETA",
         "rawType": "float64",
         "type": "float"
        },
        {
         "name": "COBERTURA_NETA_TRANSICIÓN",
         "rawType": "float64",
         "type": "float"
        },
        {
         "name": "COBERTURA_NETA_PRIMARIA",
         "rawType": "float64",
         "type": "float"
        },
        {
         "name": "COBERTURA_NETA_SECUNDARIA",
         "rawType": "float64",
         "type": "float"
        },
        {
         "name": "COBERTURA_NETA_MEDIA",
         "rawType": "float64",
         "type": "float"
        },
        {
         "name": "COBERTURA_BRUTA",
         "rawType": "float64",
         "type": "float"
        },
        {
         "name": "COBERTURA_BRUTA_TRANSICIÓN",
         "rawType": "float64",
         "type": "float"
        },
        {
         "name": "COBERTURA_BRUTA_PRIMARIA",
         "rawType": "float64",
         "type": "float"
        },
        {
         "name": "COBERTURA_BRUTA_SECUNDARIA",
         "rawType": "float64",
         "type": "float"
        },
        {
         "name": "COBERTURA_BRUTA_MEDIA",
         "rawType": "float64",
         "type": "float"
        },
        {
         "name": "TAMAÑO_PROMEDIO_DE_GRUPO",
         "rawType": "float64",
         "type": "float"
        },
        {
         "name": "SEDES_CONECTADAS_A_INTERNET",
         "rawType": "float64",
         "type": "float"
        },
        {
         "name": "DESERCIÓN",
         "rawType": "float64",
         "type": "float"
        },
        {
         "name": "DESERCIÓN_TRANSICIÓN",
         "rawType": "float64",
         "type": "float"
        },
        {
         "name": "DESERCIÓN_PRIMARIA",
         "rawType": "float64",
         "type": "float"
        },
        {
         "name": "DESERCIÓN_SECUNDARIA",
         "rawType": "float64",
         "type": "float"
        },
        {
         "name": "DESERCIÓN_MEDIA",
         "rawType": "float64",
         "type": "float"
        },
        {
         "name": "APROBACIÓN",
         "rawType": "float64",
         "type": "float"
        },
        {
         "name": "APROBACIÓN_TRANSICIÓN",
         "rawType": "float64",
         "type": "float"
        },
        {
         "name": "APROBACIÓN_PRIMARIA",
         "rawType": "float64",
         "type": "float"
        },
        {
         "name": "APROBACIÓN_SECUNDARIA",
         "rawType": "float64",
         "type": "float"
        },
        {
         "name": "APROBACIÓN_MEDIA",
         "rawType": "float64",
         "type": "float"
        },
        {
         "name": "REPROBACIÓN",
         "rawType": "float64",
         "type": "float"
        },
        {
         "name": "REPROBACIÓN_TRANSICIÓN",
         "rawType": "float64",
         "type": "float"
        },
        {
         "name": "REPROBACIÓN_PRIMARIA",
         "rawType": "float64",
         "type": "float"
        },
        {
         "name": "REPROBACIÓN_SECUNDARIA",
         "rawType": "float64",
         "type": "float"
        },
        {
         "name": "REPROBACIÓN_MEDIA",
         "rawType": "float64",
         "type": "float"
        },
        {
         "name": "REPITENCIA",
         "rawType": "float64",
         "type": "float"
        },
        {
         "name": "REPITENCIA_TRANSICIÓN",
         "rawType": "float64",
         "type": "float"
        },
        {
         "name": "REPITENCIA_PRIMARIA",
         "rawType": "float64",
         "type": "float"
        },
        {
         "name": "REPITENCIA_SECUNDARIA",
         "rawType": "float64",
         "type": "float"
        },
        {
         "name": "REPITENCIA_MEDIA",
         "rawType": "float64",
         "type": "float"
        }
       ],
       "ref": "525b1b76-9b8e-41e9-9f8e-71dc26427764",
       "rows": [
        [
         "0",
         "2023",
         "5001",
         "Medellín",
         "5",
         "Antioquia",
         "3759.0",
         "Medellín",
         "377562",
         "96.15",
         "95.94",
         "81.42",
         "94.01",
         "83.58",
         "57.69",
         "107.16",
         "94.23",
         "105.58",
         "115.53",
         "100.69",
         null,
         null,
         "5.4",
         "4.84",
         "4.85",
         "6.75",
         "3.93",
         "85.37",
         "0.15",
         "88.95",
         "77.84",
         "88.8",
         "9.23",
         "0.15",
         "6.21",
         "15.4",
         "7.27",
         "9.25",
         "1.82",
         "8.34",
         "13.69",
         "4.48"
        ],
        [
         "1",
         "2023",
         "5002",
         "Abejorral",
         "5",
         "Antioquia",
         "3758.0",
         "Antioquia (ETC)",
         "3634",
         "74.38",
         "74.38",
         "50.55",
         "74.32",
         "63.78",
         "40.95",
         "81.54",
         "65.93",
         "87.91",
         "83.4",
         "69.68",
         null,
         null,
         "4.15",
         "3.33",
         "2.86",
         "6.36",
         "3.03",
         "88.08",
         "0.56",
         "89.88",
         "82.7",
         "92.56",
         "7.77",
         "0.56",
         "7.26",
         "10.93",
         "4.41",
         "9.07",
         "1.67",
         "10.28",
         "11.32",
         "2.2"
        ],
        [
         "2",
         "2023",
         "5004",
         "Abriaquí",
         "5",
         "Antioquia",
         "3758.0",
         "Antioquia (ETC)",
         "503",
         "62.62",
         "62.62",
         "44.19",
         "63.33",
         "51.53",
         "40.23",
         "66.8",
         "58.14",
         "72.86",
         "66.87",
         "56.32",
         null,
         null,
         "1.19",
         "0.0",
         "1.31",
         "0.0",
         "4.08",
         "92.26",
         "0.0",
         "96.73",
         "83.49",
         "93.88",
         "6.55",
         "0.0",
         "1.96",
         "16.51",
         "2.04",
         "9.52",
         "0.0",
         "10.46",
         "13.76",
         "2.04"
        ],
        [
         "3",
         "2023",
         "5021",
         "Alejandría",
         "5",
         "Antioquia",
         "3758.0",
         "Antioquia (ETC)",
         "864",
         "81.37",
         "81.37",
         "61.45",
         "73.21",
         "77.74",
         "73.08",
         "85.19",
         "75.9",
         "79.31",
         "90.88",
         "96.15",
         null,
         null,
         "3.26",
         "1.59",
         "1.67",
         "6.02",
         "2.4",
         "88.86",
         "0.0",
         "91.3",
         "80.32",
         "95.2",
         "7.88",
         "0.0",
         "7.02",
         "13.65",
         "2.4",
         "7.2",
         "1.59",
         "7.69",
         "11.65",
         "0.0"
        ],
        [
         "4",
         "2023",
         "5030",
         "Amagá",
         "5",
         "Antioquia",
         "3758.0",
         "Antioquia (ETC)",
         "5060",
         "78.3",
         "78.3",
         "67.65",
         "76.96",
         "65.61",
         "38.82",
         "89.21",
         "84.69",
         "88.94",
         "94.72",
         "81.27",
         null,
         null,
         "4.33",
         "4.37",
         "3.12",
         "6.32",
         "3.04",
         "84.95",
         "0.0",
         "87.25",
         "77.2",
         "91.46",
         "10.71",
         "0.0",
         "9.63",
         "16.48",
         "5.5",
         "12.08",
         "0.29",
         "11.54",
         "18.48",
         "3.98"
        ]
       ],
       "shape": {
        "columns": 41,
        "rows": 5
       }
      },
      "text/html": [
       "<div>\n",
       "<style scoped>\n",
       "    .dataframe tbody tr th:only-of-type {\n",
       "        vertical-align: middle;\n",
       "    }\n",
       "\n",
       "    .dataframe tbody tr th {\n",
       "        vertical-align: top;\n",
       "    }\n",
       "\n",
       "    .dataframe thead th {\n",
       "        text-align: right;\n",
       "    }\n",
       "</style>\n",
       "<table border=\"1\" class=\"dataframe\">\n",
       "  <thead>\n",
       "    <tr style=\"text-align: right;\">\n",
       "      <th></th>\n",
       "      <th>AÑO</th>\n",
       "      <th>CÓDIGO_MUNICIPIO</th>\n",
       "      <th>MUNICIPIO</th>\n",
       "      <th>CÓDIGO_DEPARTAMENTO</th>\n",
       "      <th>DEPARTAMENTO</th>\n",
       "      <th>CÓDIGO_ETC</th>\n",
       "      <th>ETC</th>\n",
       "      <th>POBLACIÓN_5_16</th>\n",
       "      <th>TASA_MATRICULACIÓN_5_16</th>\n",
       "      <th>COBERTURA_NETA</th>\n",
       "      <th>...</th>\n",
       "      <th>REPROBACIÓN</th>\n",
       "      <th>REPROBACIÓN_TRANSICIÓN</th>\n",
       "      <th>REPROBACIÓN_PRIMARIA</th>\n",
       "      <th>REPROBACIÓN_SECUNDARIA</th>\n",
       "      <th>REPROBACIÓN_MEDIA</th>\n",
       "      <th>REPITENCIA</th>\n",
       "      <th>REPITENCIA_TRANSICIÓN</th>\n",
       "      <th>REPITENCIA_PRIMARIA</th>\n",
       "      <th>REPITENCIA_SECUNDARIA</th>\n",
       "      <th>REPITENCIA_MEDIA</th>\n",
       "    </tr>\n",
       "  </thead>\n",
       "  <tbody>\n",
       "    <tr>\n",
       "      <th>0</th>\n",
       "      <td>2023</td>\n",
       "      <td>5001</td>\n",
       "      <td>Medellín</td>\n",
       "      <td>5</td>\n",
       "      <td>Antioquia</td>\n",
       "      <td>3759.0</td>\n",
       "      <td>Medellín</td>\n",
       "      <td>377562</td>\n",
       "      <td>96.15</td>\n",
       "      <td>95.94</td>\n",
       "      <td>...</td>\n",
       "      <td>9.23</td>\n",
       "      <td>0.15</td>\n",
       "      <td>6.21</td>\n",
       "      <td>15.40</td>\n",
       "      <td>7.27</td>\n",
       "      <td>9.25</td>\n",
       "      <td>1.82</td>\n",
       "      <td>8.34</td>\n",
       "      <td>13.69</td>\n",
       "      <td>4.48</td>\n",
       "    </tr>\n",
       "    <tr>\n",
       "      <th>1</th>\n",
       "      <td>2023</td>\n",
       "      <td>5002</td>\n",
       "      <td>Abejorral</td>\n",
       "      <td>5</td>\n",
       "      <td>Antioquia</td>\n",
       "      <td>3758.0</td>\n",
       "      <td>Antioquia (ETC)</td>\n",
       "      <td>3634</td>\n",
       "      <td>74.38</td>\n",
       "      <td>74.38</td>\n",
       "      <td>...</td>\n",
       "      <td>7.77</td>\n",
       "      <td>0.56</td>\n",
       "      <td>7.26</td>\n",
       "      <td>10.93</td>\n",
       "      <td>4.41</td>\n",
       "      <td>9.07</td>\n",
       "      <td>1.67</td>\n",
       "      <td>10.28</td>\n",
       "      <td>11.32</td>\n",
       "      <td>2.20</td>\n",
       "    </tr>\n",
       "    <tr>\n",
       "      <th>2</th>\n",
       "      <td>2023</td>\n",
       "      <td>5004</td>\n",
       "      <td>Abriaquí</td>\n",
       "      <td>5</td>\n",
       "      <td>Antioquia</td>\n",
       "      <td>3758.0</td>\n",
       "      <td>Antioquia (ETC)</td>\n",
       "      <td>503</td>\n",
       "      <td>62.62</td>\n",
       "      <td>62.62</td>\n",
       "      <td>...</td>\n",
       "      <td>6.55</td>\n",
       "      <td>0.00</td>\n",
       "      <td>1.96</td>\n",
       "      <td>16.51</td>\n",
       "      <td>2.04</td>\n",
       "      <td>9.52</td>\n",
       "      <td>0.00</td>\n",
       "      <td>10.46</td>\n",
       "      <td>13.76</td>\n",
       "      <td>2.04</td>\n",
       "    </tr>\n",
       "    <tr>\n",
       "      <th>3</th>\n",
       "      <td>2023</td>\n",
       "      <td>5021</td>\n",
       "      <td>Alejandría</td>\n",
       "      <td>5</td>\n",
       "      <td>Antioquia</td>\n",
       "      <td>3758.0</td>\n",
       "      <td>Antioquia (ETC)</td>\n",
       "      <td>864</td>\n",
       "      <td>81.37</td>\n",
       "      <td>81.37</td>\n",
       "      <td>...</td>\n",
       "      <td>7.88</td>\n",
       "      <td>0.00</td>\n",
       "      <td>7.02</td>\n",
       "      <td>13.65</td>\n",
       "      <td>2.40</td>\n",
       "      <td>7.20</td>\n",
       "      <td>1.59</td>\n",
       "      <td>7.69</td>\n",
       "      <td>11.65</td>\n",
       "      <td>0.00</td>\n",
       "    </tr>\n",
       "    <tr>\n",
       "      <th>4</th>\n",
       "      <td>2023</td>\n",
       "      <td>5030</td>\n",
       "      <td>Amagá</td>\n",
       "      <td>5</td>\n",
       "      <td>Antioquia</td>\n",
       "      <td>3758.0</td>\n",
       "      <td>Antioquia (ETC)</td>\n",
       "      <td>5060</td>\n",
       "      <td>78.30</td>\n",
       "      <td>78.30</td>\n",
       "      <td>...</td>\n",
       "      <td>10.71</td>\n",
       "      <td>0.00</td>\n",
       "      <td>9.63</td>\n",
       "      <td>16.48</td>\n",
       "      <td>5.50</td>\n",
       "      <td>12.08</td>\n",
       "      <td>0.29</td>\n",
       "      <td>11.54</td>\n",
       "      <td>18.48</td>\n",
       "      <td>3.98</td>\n",
       "    </tr>\n",
       "  </tbody>\n",
       "</table>\n",
       "<p>5 rows × 41 columns</p>\n",
       "</div>"
      ],
      "text/plain": [
       "    AÑO  CÓDIGO_MUNICIPIO   MUNICIPIO  CÓDIGO_DEPARTAMENTO DEPARTAMENTO  \\\n",
       "0  2023              5001    Medellín                    5    Antioquia   \n",
       "1  2023              5002   Abejorral                    5    Antioquia   \n",
       "2  2023              5004    Abriaquí                    5    Antioquia   \n",
       "3  2023              5021  Alejandría                    5    Antioquia   \n",
       "4  2023              5030       Amagá                    5    Antioquia   \n",
       "\n",
       "   CÓDIGO_ETC              ETC POBLACIÓN_5_16  TASA_MATRICULACIÓN_5_16  \\\n",
       "0      3759.0         Medellín         377562                    96.15   \n",
       "1      3758.0  Antioquia (ETC)           3634                    74.38   \n",
       "2      3758.0  Antioquia (ETC)            503                    62.62   \n",
       "3      3758.0  Antioquia (ETC)            864                    81.37   \n",
       "4      3758.0  Antioquia (ETC)           5060                    78.30   \n",
       "\n",
       "   COBERTURA_NETA  ...  REPROBACIÓN  REPROBACIÓN_TRANSICIÓN  \\\n",
       "0           95.94  ...         9.23                    0.15   \n",
       "1           74.38  ...         7.77                    0.56   \n",
       "2           62.62  ...         6.55                    0.00   \n",
       "3           81.37  ...         7.88                    0.00   \n",
       "4           78.30  ...        10.71                    0.00   \n",
       "\n",
       "   REPROBACIÓN_PRIMARIA  REPROBACIÓN_SECUNDARIA  REPROBACIÓN_MEDIA  \\\n",
       "0                  6.21                   15.40               7.27   \n",
       "1                  7.26                   10.93               4.41   \n",
       "2                  1.96                   16.51               2.04   \n",
       "3                  7.02                   13.65               2.40   \n",
       "4                  9.63                   16.48               5.50   \n",
       "\n",
       "   REPITENCIA  REPITENCIA_TRANSICIÓN  REPITENCIA_PRIMARIA  \\\n",
       "0        9.25                   1.82                 8.34   \n",
       "1        9.07                   1.67                10.28   \n",
       "2        9.52                   0.00                10.46   \n",
       "3        7.20                   1.59                 7.69   \n",
       "4       12.08                   0.29                11.54   \n",
       "\n",
       "   REPITENCIA_SECUNDARIA  REPITENCIA_MEDIA  \n",
       "0                  13.69              4.48  \n",
       "1                  11.32              2.20  \n",
       "2                  13.76              2.04  \n",
       "3                  11.65              0.00  \n",
       "4                  18.48              3.98  \n",
       "\n",
       "[5 rows x 41 columns]"
      ]
     },
     "execution_count": 72,
     "metadata": {},
     "output_type": "execute_result"
    }
   ],
   "source": [
    "data= pd.read_csv(\"Estadísticas en Educación.csv\")\n",
    "data.head()"
   ]
  },
  {
   "cell_type": "markdown",
   "id": "c40e6123",
   "metadata": {},
   "source": [
    "# 🔍 3.--- EDA (Exploración y Analisis de Datos)---"
   ]
  },
  {
   "cell_type": "code",
   "execution_count": 73,
   "id": "82e3fea0",
   "metadata": {},
   "outputs": [
    {
     "name": "stdout",
     "output_type": "stream",
     "text": [
      "<class 'pandas.core.frame.DataFrame'>\n",
      "RangeIndex: 14585 entries, 0 to 14584\n",
      "Data columns (total 41 columns):\n",
      " #   Column                       Non-Null Count  Dtype  \n",
      "---  ------                       --------------  -----  \n",
      " 0   AÑO                          14585 non-null  int64  \n",
      " 1   CÓDIGO_MUNICIPIO             14585 non-null  int64  \n",
      " 2   MUNICIPIO                    14585 non-null  object \n",
      " 3   CÓDIGO_DEPARTAMENTO          14585 non-null  int64  \n",
      " 4   DEPARTAMENTO                 14585 non-null  object \n",
      " 5   CÓDIGO_ETC                   14585 non-null  float64\n",
      " 6   ETC                          14585 non-null  object \n",
      " 7   POBLACIÓN_5_16               14579 non-null  object \n",
      " 8   TASA_MATRICULACIÓN_5_16      14470 non-null  float64\n",
      " 9   COBERTURA_NETA               14474 non-null  float64\n",
      " 10  COBERTURA_NETA_TRANSICIÓN    14533 non-null  float64\n",
      " 11  COBERTURA_NETA_PRIMARIA      14494 non-null  float64\n",
      " 12  COBERTURA_NETA_SECUNDARIA    14491 non-null  float64\n",
      " 13  COBERTURA_NETA_MEDIA         14492 non-null  float64\n",
      " 14  COBERTURA_BRUTA              14517 non-null  float64\n",
      " 15  COBERTURA_BRUTA_TRANSICIÓN   14488 non-null  float64\n",
      " 16  COBERTURA_BRUTA_PRIMARIA     14504 non-null  float64\n",
      " 17  COBERTURA_BRUTA_SECUNDARIA   14497 non-null  float64\n",
      " 18  COBERTURA_BRUTA_MEDIA        14458 non-null  float64\n",
      " 19  TAMAÑO_PROMEDIO_DE_GRUPO     7572 non-null   float64\n",
      " 20  SEDES_CONECTADAS_A_INTERNET  7768 non-null   float64\n",
      " 21  DESERCIÓN                    14443 non-null  float64\n",
      " 22  DESERCIÓN_TRANSICIÓN         13682 non-null  float64\n",
      " 23  DESERCIÓN_PRIMARIA           14343 non-null  float64\n",
      " 24  DESERCIÓN_SECUNDARIA         14315 non-null  float64\n",
      " 25  DESERCIÓN_MEDIA              13851 non-null  float64\n",
      " 26  APROBACIÓN                   14560 non-null  float64\n",
      " 27  APROBACIÓN_TRANSICIÓN        14492 non-null  float64\n",
      " 28  APROBACIÓN_PRIMARIA          14560 non-null  float64\n",
      " 29  APROBACIÓN_SECUNDARIA        14531 non-null  float64\n",
      " 30  APROBACIÓN_MEDIA             14484 non-null  float64\n",
      " 31  REPROBACIÓN                  14499 non-null  float64\n",
      " 32  REPROBACIÓN_TRANSICIÓN       14492 non-null  float64\n",
      " 33  REPROBACIÓN_PRIMARIA         14488 non-null  float64\n",
      " 34  REPROBACIÓN_SECUNDARIA       14479 non-null  float64\n",
      " 35  REPROBACIÓN_MEDIA            14440 non-null  float64\n",
      " 36  REPITENCIA                   14442 non-null  float64\n",
      " 37  REPITENCIA_TRANSICIÓN        14426 non-null  float64\n",
      " 38  REPITENCIA_PRIMARIA          14437 non-null  float64\n",
      " 39  REPITENCIA_SECUNDARIA        14433 non-null  float64\n",
      " 40  REPITENCIA_MEDIA             14446 non-null  float64\n",
      "dtypes: float64(34), int64(3), object(4)\n",
      "memory usage: 4.6+ MB\n"
     ]
    }
   ],
   "source": [
    "# Informacion general del Dataset\n",
    "data.info()"
   ]
  },
  {
   "cell_type": "code",
   "execution_count": 74,
   "id": "c0ac2063",
   "metadata": {},
   "outputs": [
    {
     "name": "stdout",
     "output_type": "stream",
     "text": [
      "Columnas con datos faltantes:\n",
      "Columna: POBLACIÓN_5_16 → Nulos: 6 → Tipo: object\n",
      "Columna: TASA_MATRICULACIÓN_5_16 → Nulos: 115 → Tipo: float64\n",
      "Columna: COBERTURA_NETA → Nulos: 111 → Tipo: float64\n",
      "Columna: COBERTURA_NETA_TRANSICIÓN → Nulos: 52 → Tipo: float64\n",
      "Columna: COBERTURA_NETA_PRIMARIA → Nulos: 91 → Tipo: float64\n",
      "Columna: COBERTURA_NETA_SECUNDARIA → Nulos: 94 → Tipo: float64\n",
      "Columna: COBERTURA_NETA_MEDIA → Nulos: 93 → Tipo: float64\n",
      "Columna: COBERTURA_BRUTA → Nulos: 68 → Tipo: float64\n",
      "Columna: COBERTURA_BRUTA_TRANSICIÓN → Nulos: 97 → Tipo: float64\n",
      "Columna: COBERTURA_BRUTA_PRIMARIA → Nulos: 81 → Tipo: float64\n",
      "Columna: COBERTURA_BRUTA_SECUNDARIA → Nulos: 88 → Tipo: float64\n",
      "Columna: COBERTURA_BRUTA_MEDIA → Nulos: 127 → Tipo: float64\n",
      "Columna: TAMAÑO_PROMEDIO_DE_GRUPO → Nulos: 7013 → Tipo: float64\n",
      "Columna: SEDES_CONECTADAS_A_INTERNET → Nulos: 6817 → Tipo: float64\n",
      "Columna: DESERCIÓN → Nulos: 142 → Tipo: float64\n",
      "Columna: DESERCIÓN_TRANSICIÓN → Nulos: 903 → Tipo: float64\n",
      "Columna: DESERCIÓN_PRIMARIA → Nulos: 242 → Tipo: float64\n",
      "Columna: DESERCIÓN_SECUNDARIA → Nulos: 270 → Tipo: float64\n",
      "Columna: DESERCIÓN_MEDIA → Nulos: 734 → Tipo: float64\n",
      "Columna: APROBACIÓN → Nulos: 25 → Tipo: float64\n",
      "Columna: APROBACIÓN_TRANSICIÓN → Nulos: 93 → Tipo: float64\n",
      "Columna: APROBACIÓN_PRIMARIA → Nulos: 25 → Tipo: float64\n",
      "Columna: APROBACIÓN_SECUNDARIA → Nulos: 54 → Tipo: float64\n",
      "Columna: APROBACIÓN_MEDIA → Nulos: 101 → Tipo: float64\n",
      "Columna: REPROBACIÓN → Nulos: 86 → Tipo: float64\n",
      "Columna: REPROBACIÓN_TRANSICIÓN → Nulos: 93 → Tipo: float64\n",
      "Columna: REPROBACIÓN_PRIMARIA → Nulos: 97 → Tipo: float64\n",
      "Columna: REPROBACIÓN_SECUNDARIA → Nulos: 106 → Tipo: float64\n",
      "Columna: REPROBACIÓN_MEDIA → Nulos: 145 → Tipo: float64\n",
      "Columna: REPITENCIA → Nulos: 143 → Tipo: float64\n",
      "Columna: REPITENCIA_TRANSICIÓN → Nulos: 159 → Tipo: float64\n",
      "Columna: REPITENCIA_PRIMARIA → Nulos: 148 → Tipo: float64\n",
      "Columna: REPITENCIA_SECUNDARIA → Nulos: 152 → Tipo: float64\n",
      "Columna: REPITENCIA_MEDIA → Nulos: 139 → Tipo: float64\n"
     ]
    }
   ],
   "source": [
    "# Verificación de valores nulos en las columnas\n",
    "print(\"Columnas con datos faltantes:\")\n",
    "null_cols= data.columns[data.isnull().any()]\n",
    "for col in null_cols:\n",
    "    print(f\"Columna: {col} → Nulos: {data[col].isnull().sum()} → Tipo: {data[col].dtype}\")"
   ]
  },
  {
   "cell_type": "markdown",
   "id": "24dc1eff",
   "metadata": {},
   "source": [
    "Observamos que las columnas TAMAÑO_PROMEDIO_DE_GRUPO tiene 7013 valores nulos, mientras que la columna SEDES_CONECTADAS_A_INTERNET\ttiene 6817 valores nulos. Para dar tratamiento procedemos a..."
   ]
  },
  {
   "cell_type": "code",
   "execution_count": 75,
   "id": "7da5bc28",
   "metadata": {},
   "outputs": [
    {
     "data": {
      "image/png": "[encoded data removed]",
      "text/plain": [
       "<Figure size 1200x600 with 1 Axes>"
      ]
     },
     "metadata": {},
     "output_type": "display_data"
    }
   ],
   "source": [
    "#Gráfica de datos faltantes\n",
    "import seaborn as sns\n",
    "import matplotlib.pyplot as plt\n",
    "# Crear una figura\n",
    "plt.figure(figsize=(12,6))\n",
    "# Generar el heatmap de valores faltantes\n",
    "sns.heatmap(data.isnull(), cmap=\"viridis\", cbar=False)\n",
    "# Agregar título\n",
    "plt.title(\"Mapa de valores faltantes\")\n",
    "plt.show()"
   ]
  },
  {
   "cell_type": "code",
   "execution_count": 76,
   "id": "7642764a",
   "metadata": {},
   "outputs": [
    {
     "name": "stdout",
     "output_type": "stream",
     "text": [
      " Total de filas duplicadas: 0\n",
      "\n",
      " No hay filas duplicadas.\n",
      "\n",
      " Columnas duplicadas en el dataset:\n",
      "['APROBACIÓN_TRANSICIÓN', 'REPROBACIÓN_TRANSICIÓN']\n"
     ]
    }
   ],
   "source": [
    "#Verificación de filas y columnas duplicadas\n",
    "\n",
    "# Filas duplicadas\n",
    "duplicate_rows = data[data.duplicated()]\n",
    "\n",
    "# Columnas duplicadas\n",
    "duplicate_columns = data.T.duplicated(keep=False)\n",
    "duplicated_column_names = data.columns[duplicate_columns]\n",
    "\n",
    "# Mostrar resultados\n",
    "print(f\" Total de filas duplicadas: {duplicate_rows.shape[0]}\")\n",
    "if not duplicate_rows.empty:\n",
    "    print(\"\\n Filas duplicadas en el dataset:\")\n",
    "    print(duplicate_rows)\n",
    "else:\n",
    "    print(\"\\n No hay filas duplicadas.\")\n",
    "\n",
    "print(\"\\n Columnas duplicadas en el dataset:\")\n",
    "if len(duplicated_column_names) > 0:\n",
    "    print(duplicated_column_names.tolist())\n",
    "else:\n",
    "    print(\"\\n No hay columnas duplicadas.\")"
   ]
  },
  {
   "cell_type": "code",
   "execution_count": 77,
   "id": "3fb650ae",
   "metadata": {},
   "outputs": [
    {
     "data": {
      "application/vnd.microsoft.datawrangler.viewer.v0+json": {
       "columns": [
        {
         "name": "index",
         "rawType": "object",
         "type": "string"
        },
        {
         "name": "0",
         "rawType": "int64",
         "type": "integer"
        }
       ],
       "ref": "78ce33b2-4f55-4981-98b3-3ade78565929",
       "rows": [
        [
         "AÑO",
         "0"
        ],
        [
         "CÓDIGO_MUNICIPIO",
         "3"
        ],
        [
         "MUNICIPIO",
         "0"
        ],
        [
         "CÓDIGO_DEPARTAMENTO",
         "3"
        ],
        [
         "DEPARTAMENTO",
         "0"
        ],
        [
         "CÓDIGO_ETC",
         "3"
        ],
        [
         "ETC",
         "0"
        ],
        [
         "POBLACIÓN_5_16",
         "0"
        ],
        [
         "TASA_MATRICULACIÓN_5_16",
         "5"
        ],
        [
         "COBERTURA_NETA",
         "8"
        ],
        [
         "COBERTURA_NETA_TRANSICIÓN",
         "9"
        ],
        [
         "COBERTURA_NETA_PRIMARIA",
         "8"
        ],
        [
         "COBERTURA_NETA_SECUNDARIA",
         "26"
        ],
        [
         "COBERTURA_NETA_MEDIA",
         "50"
        ],
        [
         "COBERTURA_BRUTA",
         "8"
        ],
        [
         "COBERTURA_BRUTA_TRANSICIÓN",
         "8"
        ],
        [
         "COBERTURA_BRUTA_PRIMARIA",
         "8"
        ],
        [
         "COBERTURA_BRUTA_SECUNDARIA",
         "26"
        ],
        [
         "COBERTURA_BRUTA_MEDIA",
         "43"
        ],
        [
         "TAMAÑO_PROMEDIO_DE_GRUPO",
         "0"
        ],
        [
         "SEDES_CONECTADAS_A_INTERNET",
         "284"
        ],
        [
         "DESERCIÓN",
         "55"
        ],
        [
         "DESERCIÓN_TRANSICIÓN",
         "1219"
        ],
        [
         "DESERCIÓN_PRIMARIA",
         "355"
        ],
        [
         "DESERCIÓN_SECUNDARIA",
         "195"
        ],
        [
         "DESERCIÓN_MEDIA",
         "698"
        ],
        [
         "APROBACIÓN",
         "3"
        ],
        [
         "APROBACIÓN_TRANSICIÓN",
         "10330"
        ],
        [
         "APROBACIÓN_PRIMARIA",
         "3"
        ],
        [
         "APROBACIÓN_SECUNDARIA",
         "14"
        ],
        [
         "APROBACIÓN_MEDIA",
         "22"
        ],
        [
         "REPROBACIÓN",
         "1625"
        ],
        [
         "REPROBACIÓN_TRANSICIÓN",
         "10330"
        ],
        [
         "REPROBACIÓN_PRIMARIA",
         "3018"
        ],
        [
         "REPROBACIÓN_SECUNDARIA",
         "2994"
        ],
        [
         "REPROBACIÓN_MEDIA",
         "2766"
        ],
        [
         "REPITENCIA",
         "890"
        ],
        [
         "REPITENCIA_TRANSICIÓN",
         "7915"
        ],
        [
         "REPITENCIA_PRIMARIA",
         "1419"
        ],
        [
         "REPITENCIA_SECUNDARIA",
         "1608"
        ],
        [
         "REPITENCIA_MEDIA",
         "4354"
        ]
       ],
       "shape": {
        "columns": 1,
        "rows": 41
       }
      },
      "text/plain": [
       "AÑO                                0\n",
       "CÓDIGO_MUNICIPIO                   3\n",
       "MUNICIPIO                          0\n",
       "CÓDIGO_DEPARTAMENTO                3\n",
       "DEPARTAMENTO                       0\n",
       "CÓDIGO_ETC                         3\n",
       "ETC                                0\n",
       "POBLACIÓN_5_16                     0\n",
       "TASA_MATRICULACIÓN_5_16            5\n",
       "COBERTURA_NETA                     8\n",
       "COBERTURA_NETA_TRANSICIÓN          9\n",
       "COBERTURA_NETA_PRIMARIA            8\n",
       "COBERTURA_NETA_SECUNDARIA         26\n",
       "COBERTURA_NETA_MEDIA              50\n",
       "COBERTURA_BRUTA                    8\n",
       "COBERTURA_BRUTA_TRANSICIÓN         8\n",
       "COBERTURA_BRUTA_PRIMARIA           8\n",
       "COBERTURA_BRUTA_SECUNDARIA        26\n",
       "COBERTURA_BRUTA_MEDIA             43\n",
       "TAMAÑO_PROMEDIO_DE_GRUPO           0\n",
       "SEDES_CONECTADAS_A_INTERNET      284\n",
       "DESERCIÓN                         55\n",
       "DESERCIÓN_TRANSICIÓN            1219\n",
       "DESERCIÓN_PRIMARIA               355\n",
       "DESERCIÓN_SECUNDARIA             195\n",
       "DESERCIÓN_MEDIA                  698\n",
       "APROBACIÓN                         3\n",
       "APROBACIÓN_TRANSICIÓN          10330\n",
       "APROBACIÓN_PRIMARIA                3\n",
       "APROBACIÓN_SECUNDARIA             14\n",
       "APROBACIÓN_MEDIA                  22\n",
       "REPROBACIÓN                     1625\n",
       "REPROBACIÓN_TRANSICIÓN         10330\n",
       "REPROBACIÓN_PRIMARIA            3018\n",
       "REPROBACIÓN_SECUNDARIA          2994\n",
       "REPROBACIÓN_MEDIA               2766\n",
       "REPITENCIA                       890\n",
       "REPITENCIA_TRANSICIÓN           7915\n",
       "REPITENCIA_PRIMARIA             1419\n",
       "REPITENCIA_SECUNDARIA           1608\n",
       "REPITENCIA_MEDIA                4354\n",
       "dtype: int64"
      ]
     },
     "execution_count": 77,
     "metadata": {},
     "output_type": "execute_result"
    }
   ],
   "source": [
    "#Verificar los valores \"0\" de cada columna\n",
    "(data == 0).sum()"
   ]
  },
  {
   "cell_type": "code",
   "execution_count": 78,
   "id": "b11ea100",
   "metadata": {},
   "outputs": [
    {
     "name": "stderr",
     "output_type": "stream",
     "text": [
      "C:\\Users\\LENOVO\\AppData\\Local\\Temp\\ipykernel_21396\\2550332263.py:19: FutureWarning: \n",
      "\n",
      "Passing `palette` without assigning `hue` is deprecated and will be removed in v0.14.0. Assign the `y` variable to `hue` and set `legend=False` for the same effect.\n",
      "\n",
      "  sns.barplot(data=zero_df, x='% de Ceros', y='Columna', palette='coolwarm')\n"
     ]
    },
    {
     "data": {
      "image/png": "[encoded data removed]",
      "text/plain": [
       "<Figure size 1200x800 with 1 Axes>"
      ]
     },
     "metadata": {},
     "output_type": "display_data"
    }
   ],
   "source": [
    "import matplotlib.pyplot as plt\n",
    "import seaborn as sns\n",
    "# Calcular % de ceros por columna\n",
    "zero_counts = (data == 0).sum()\n",
    "total_rows = len(data)\n",
    "zero_percentage = (zero_counts / total_rows) * 100\n",
    "\n",
    "# Crear DataFrame para visualización\n",
    "zero_df = pd.DataFrame({\n",
    "    'Columna': zero_counts.index,\n",
    "    '% de Ceros': zero_percentage\n",
    "}).sort_values('% de Ceros', ascending=False)\n",
    "\n",
    "# Filtrar columnas con al menos 1% de ceros (puedes cambiar el umbral)\n",
    "zero_df = zero_df[zero_df['% de Ceros'] > 1]\n",
    "\n",
    "# Visualización con seaborn\n",
    "plt.figure(figsize=(12, 8))\n",
    "sns.barplot(data=zero_df, x='% de Ceros', y='Columna', palette='coolwarm')\n",
    "plt.title('Porcentaje de Ceros por Columna')\n",
    "plt.xlabel('% de Ceros')\n",
    "plt.ylabel('Columnas')\n",
    "plt.tight_layout()\n",
    "plt.show()"
   ]
  },
  {
   "cell_type": "code",
   "execution_count": null,
   "id": "f89d4ed3",
   "metadata": {},
   "outputs": [
    {
     "data": {
      "application/vnd.microsoft.datawrangler.viewer.v0+json": {
       "columns": [
        {
         "name": "index",
         "rawType": "int64",
         "type": "integer"
        },
        {
         "name": "Columna",
         "rawType": "object",
         "type": "string"
        },
        {
         "name": "% de Ceros",
         "rawType": "float64",
         "type": "float"
        },
        {
         "name": "% Nulos",
         "rawType": "float64",
         "type": "float"
        },
        {
         "name": "Valores Únicos",
         "rawType": "int64",
         "type": "integer"
        },
        {
         "name": "Sugerencia",
         "rawType": "object",
         "type": "string"
        }
       ],
       "ref": "e1f9dbd0-e59b-4b0c-8729-587c4582829d",
       "rows": [
        [
         "0",
         "APROBACIÓN_TRANSICIÓN",
         "70.82619129242373",
         "0.6376414124100103",
         "660",
         "❌ Revisar (muchos ceros/nulos o constante)"
        ],
        [
         "1",
         "REPROBACIÓN_TRANSICIÓN",
         "70.82619129242373",
         "0.6376414124100103",
         "660",
         "❌ Revisar (muchos ceros/nulos o constante)"
        ],
        [
         "2",
         "REPITENCIA_TRANSICIÓN",
         "54.26808364758313",
         "1.0901611244429208",
         "876",
         "❌ Revisar (muchos ceros/nulos o constante)"
        ],
        [
         "3",
         "REPITENCIA_MEDIA",
         "29.852588275625642",
         "0.9530339389784025",
         "963",
         "✅ Conservar"
        ],
        [
         "4",
         "REPROBACIÓN_PRIMARIA",
         "20.69249228659582",
         "0.665066849502914",
         "1487",
         "✅ Conservar"
        ],
        [
         "5",
         "REPROBACIÓN_SECUNDARIA",
         "20.527939664038396",
         "0.7267740829619472",
         "2211",
         "✅ Conservar"
        ],
        [
         "6",
         "REPROBACIÓN_MEDIA",
         "18.964689749742885",
         "0.994172094617758",
         "1600",
         "✅ Conservar"
        ],
        [
         "7",
         "REPROBACIÓN",
         "11.141583818992116",
         "0.5896468974974289",
         "1569",
         "✅ Conservar"
        ],
        [
         "8",
         "REPITENCIA_SECUNDARIA",
         "11.025025711347276",
         "1.0421666095303392",
         "1770",
         "✅ Conservar"
        ],
        [
         "9",
         "REPITENCIA_PRIMARIA",
         "9.729173808707577",
         "1.0147411724374358",
         "1495",
         "✅ Conservar"
        ],
        [
         "10",
         "DESERCIÓN_TRANSICIÓN",
         "8.357901954062392",
         "6.191292423723003",
         "1157",
         "✅ Conservar"
        ],
        [
         "11",
         "REPITENCIA",
         "6.102159753171065",
         "0.9804593760713061",
         "1401",
         "✅ Conservar"
        ],
        [
         "12",
         "DESERCIÓN_MEDIA",
         "4.7857387727116905",
         "5.032567706547823",
         "1199",
         "✅ Conservar"
        ],
        [
         "13",
         "DESERCIÓN_PRIMARIA",
         "2.4340075419952005",
         "1.6592389441206719",
         "1001",
         "✅ Conservar"
        ],
        [
         "14",
         "SEDES_CONECTADAS_A_INTERNET",
         "1.9472060335961605",
         "46.73980116558107",
         "1402",
         "✅ Conservar"
        ],
        [
         "15",
         "DESERCIÓN_SECUNDARIA",
         "1.336990058279054",
         "1.8512170037709976",
         "1426",
         "✅ Conservar"
        ],
        [
         "16",
         "DESERCIÓN",
         "0.3770997600274254",
         "0.9736030167980803",
         "1086",
         "✅ Conservar"
        ],
        [
         "17",
         "COBERTURA_NETA_MEDIA",
         "0.34281796366129585",
         "0.6376414124100103",
         "5049",
         "✅ Conservar"
        ],
        [
         "18",
         "COBERTURA_BRUTA_MEDIA",
         "0.29482344874871447",
         "0.8707576276996914",
         "6628",
         "✅ Conservar"
        ],
        [
         "19",
         "COBERTURA_NETA_SECUNDARIA",
         "0.17826534110387385",
         "0.6444977716832362",
         "5581",
         "✅ Conservar"
        ],
        [
         "20",
         "COBERTURA_BRUTA_SECUNDARIA",
         "0.17826534110387385",
         "0.6033596160438807",
         "6732",
         "✅ Conservar"
        ],
        [
         "21",
         "APROBACIÓN_MEDIA",
         "0.15083990401097017",
         "0.6924922865958176",
         "2196",
         "✅ Conservar"
        ],
        [
         "22",
         "APROBACIÓN_SECUNDARIA",
         "0.09598902982516284",
         "0.37024340075419954",
         "2903",
         "✅ Conservar"
        ],
        [
         "23",
         "COBERTURA_NETA_TRANSICIÓN",
         "0.06170723345903325",
         "0.3565306822077477",
         "5021",
         "✅ Conservar"
        ],
        [
         "24",
         "COBERTURA_NETA",
         "0.05485087418580734",
         "0.7610558793280768",
         "5276",
         "✅ Conservar"
        ],
        [
         "25",
         "COBERTURA_BRUTA_TRANSICIÓN",
         "0.05485087418580734",
         "0.665066849502914",
         "6286",
         "✅ Conservar"
        ],
        [
         "26",
         "COBERTURA_NETA_PRIMARIA",
         "0.05485087418580734",
         "0.6239286938635584",
         "5269",
         "✅ Conservar"
        ],
        [
         "27",
         "COBERTURA_BRUTA_PRIMARIA",
         "0.05485087418580734",
         "0.5553651011312993",
         "6554",
         "✅ Conservar"
        ],
        [
         "28",
         "COBERTURA_BRUTA",
         "0.05485087418580734",
         "0.46623243057936237",
         "6147",
         "✅ Conservar"
        ],
        [
         "29",
         "TASA_MATRICULACIÓN_5_16",
         "0.03428179636612959",
         "0.7884813164209805",
         "5826",
         "✅ Conservar"
        ],
        [
         "30",
         "APROBACIÓN",
         "0.02056907781967775",
         "0.17140898183064793",
         "2128",
         "✅ Conservar"
        ],
        [
         "31",
         "APROBACIÓN_PRIMARIA",
         "0.02056907781967775",
         "0.17140898183064793",
         "1976",
         "✅ Conservar"
        ],
        [
         "32",
         "CÓDIGO_MUNICIPIO",
         "0.02056907781967775",
         "0.0",
         "1123",
         "✅ Conservar"
        ],
        [
         "33",
         "CÓDIGO_DEPARTAMENTO",
         "0.02056907781967775",
         "0.0",
         "34",
         "✅ Conservar"
        ],
        [
         "34",
         "CÓDIGO_ETC",
         "0.02056907781967775",
         "0.0",
         "194",
         "✅ Conservar"
        ],
        [
         "35",
         "TAMAÑO_PROMEDIO_DE_GRUPO",
         "0.0",
         "48.083647583133356",
         "4232",
         "✅ Conservar"
        ],
        [
         "36",
         "POBLACIÓN_5_16",
         "0.0",
         "0.0411381556393555",
         "8527",
         "✅ Conservar"
        ],
        [
         "37",
         "AÑO",
         "0.0",
         "0.0",
         "13",
         "✅ Conservar"
        ],
        [
         "38",
         "MUNICIPIO",
         "0.0",
         "0.0",
         "1037",
         "✅ Conservar"
        ],
        [
         "39",
         "DEPARTAMENTO",
         "0.0",
         "0.0",
         "36",
         "✅ Conservar"
        ],
        [
         "40",
         "ETC",
         "0.0",
         "0.0",
         "100",
         "✅ Conservar"
        ]
       ],
       "shape": {
        "columns": 5,
        "rows": 41
       }
      },
      "text/html": [
       "<div>\n",
       "<style scoped>\n",
       "    .dataframe tbody tr th:only-of-type {\n",
       "        vertical-align: middle;\n",
       "    }\n",
       "\n",
       "    .dataframe tbody tr th {\n",
       "        vertical-align: top;\n",
       "    }\n",
       "\n",
       "    .dataframe thead th {\n",
       "        text-align: right;\n",
       "    }\n",
       "</style>\n",
       "<table border=\"1\" class=\"dataframe\">\n",
       "  <thead>\n",
       "    <tr style=\"text-align: right;\">\n",
       "      <th></th>\n",
       "      <th>Columna</th>\n",
       "      <th>% de Ceros</th>\n",
       "      <th>% Nulos</th>\n",
       "      <th>Valores Únicos</th>\n",
       "      <th>Sugerencia</th>\n",
       "    </tr>\n",
       "  </thead>\n",
       "  <tbody>\n",
       "    <tr>\n",
       "      <th>0</th>\n",
       "      <td>APROBACIÓN_TRANSICIÓN</td>\n",
       "      <td>70.826191</td>\n",
       "      <td>0.637641</td>\n",
       "      <td>660</td>\n",
       "      <td>❌ Revisar (muchos ceros/nulos o constante)</td>\n",
       "    </tr>\n",
       "    <tr>\n",
       "      <th>1</th>\n",
       "      <td>REPROBACIÓN_TRANSICIÓN</td>\n",
       "      <td>70.826191</td>\n",
       "      <td>0.637641</td>\n",
       "      <td>660</td>\n",
       "      <td>❌ Revisar (muchos ceros/nulos o constante)</td>\n",
       "    </tr>\n",
       "    <tr>\n",
       "      <th>2</th>\n",
       "      <td>REPITENCIA_TRANSICIÓN</td>\n",
       "      <td>54.268084</td>\n",
       "      <td>1.090161</td>\n",
       "      <td>876</td>\n",
       "      <td>❌ Revisar (muchos ceros/nulos o constante)</td>\n",
       "    </tr>\n",
       "    <tr>\n",
       "      <th>3</th>\n",
       "      <td>REPITENCIA_MEDIA</td>\n",
       "      <td>29.852588</td>\n",
       "      <td>0.953034</td>\n",
       "      <td>963</td>\n",
       "      <td>✅ Conservar</td>\n",
       "    </tr>\n",
       "    <tr>\n",
       "      <th>4</th>\n",
       "      <td>REPROBACIÓN_PRIMARIA</td>\n",
       "      <td>20.692492</td>\n",
       "      <td>0.665067</td>\n",
       "      <td>1487</td>\n",
       "      <td>✅ Conservar</td>\n",
       "    </tr>\n",
       "    <tr>\n",
       "      <th>5</th>\n",
       "      <td>REPROBACIÓN_SECUNDARIA</td>\n",
       "      <td>20.527940</td>\n",
       "      <td>0.726774</td>\n",
       "      <td>2211</td>\n",
       "      <td>✅ Conservar</td>\n",
       "    </tr>\n",
       "    <tr>\n",
       "      <th>6</th>\n",
       "      <td>REPROBACIÓN_MEDIA</td>\n",
       "      <td>18.964690</td>\n",
       "      <td>0.994172</td>\n",
       "      <td>1600</td>\n",
       "      <td>✅ Conservar</td>\n",
       "    </tr>\n",
       "    <tr>\n",
       "      <th>7</th>\n",
       "      <td>REPROBACIÓN</td>\n",
       "      <td>11.141584</td>\n",
       "      <td>0.589647</td>\n",
       "      <td>1569</td>\n",
       "      <td>✅ Conservar</td>\n",
       "    </tr>\n",
       "    <tr>\n",
       "      <th>8</th>\n",
       "      <td>REPITENCIA_SECUNDARIA</td>\n",
       "      <td>11.025026</td>\n",
       "      <td>1.042167</td>\n",
       "      <td>1770</td>\n",
       "      <td>✅ Conservar</td>\n",
       "    </tr>\n",
       "    <tr>\n",
       "      <th>9</th>\n",
       "      <td>REPITENCIA_PRIMARIA</td>\n",
       "      <td>9.729174</td>\n",
       "      <td>1.014741</td>\n",
       "      <td>1495</td>\n",
       "      <td>✅ Conservar</td>\n",
       "    </tr>\n",
       "    <tr>\n",
       "      <th>10</th>\n",
       "      <td>DESERCIÓN_TRANSICIÓN</td>\n",
       "      <td>8.357902</td>\n",
       "      <td>6.191292</td>\n",
       "      <td>1157</td>\n",
       "      <td>✅ Conservar</td>\n",
       "    </tr>\n",
       "    <tr>\n",
       "      <th>11</th>\n",
       "      <td>REPITENCIA</td>\n",
       "      <td>6.102160</td>\n",
       "      <td>0.980459</td>\n",
       "      <td>1401</td>\n",
       "      <td>✅ Conservar</td>\n",
       "    </tr>\n",
       "    <tr>\n",
       "      <th>12</th>\n",
       "      <td>DESERCIÓN_MEDIA</td>\n",
       "      <td>4.785739</td>\n",
       "      <td>5.032568</td>\n",
       "      <td>1199</td>\n",
       "      <td>✅ Conservar</td>\n",
       "    </tr>\n",
       "    <tr>\n",
       "      <th>13</th>\n",
       "      <td>DESERCIÓN_PRIMARIA</td>\n",
       "      <td>2.434008</td>\n",
       "      <td>1.659239</td>\n",
       "      <td>1001</td>\n",
       "      <td>✅ Conservar</td>\n",
       "    </tr>\n",
       "    <tr>\n",
       "      <th>14</th>\n",
       "      <td>SEDES_CONECTADAS_A_INTERNET</td>\n",
       "      <td>1.947206</td>\n",
       "      <td>46.739801</td>\n",
       "      <td>1402</td>\n",
       "      <td>✅ Conservar</td>\n",
       "    </tr>\n",
       "    <tr>\n",
       "      <th>15</th>\n",
       "      <td>DESERCIÓN_SECUNDARIA</td>\n",
       "      <td>1.336990</td>\n",
       "      <td>1.851217</td>\n",
       "      <td>1426</td>\n",
       "      <td>✅ Conservar</td>\n",
       "    </tr>\n",
       "    <tr>\n",
       "      <th>16</th>\n",
       "      <td>DESERCIÓN</td>\n",
       "      <td>0.377100</td>\n",
       "      <td>0.973603</td>\n",
       "      <td>1086</td>\n",
       "      <td>✅ Conservar</td>\n",
       "    </tr>\n",
       "    <tr>\n",
       "      <th>17</th>\n",
       "      <td>COBERTURA_NETA_MEDIA</td>\n",
       "      <td>0.342818</td>\n",
       "      <td>0.637641</td>\n",
       "      <td>5049</td>\n",
       "      <td>✅ Conservar</td>\n",
       "    </tr>\n",
       "    <tr>\n",
       "      <th>18</th>\n",
       "      <td>COBERTURA_BRUTA_MEDIA</td>\n",
       "      <td>0.294823</td>\n",
       "      <td>0.870758</td>\n",
       "      <td>6628</td>\n",
       "      <td>✅ Conservar</td>\n",
       "    </tr>\n",
       "    <tr>\n",
       "      <th>19</th>\n",
       "      <td>COBERTURA_NETA_SECUNDARIA</td>\n",
       "      <td>0.178265</td>\n",
       "      <td>0.644498</td>\n",
       "      <td>5581</td>\n",
       "      <td>✅ Conservar</td>\n",
       "    </tr>\n",
       "    <tr>\n",
       "      <th>20</th>\n",
       "      <td>COBERTURA_BRUTA_SECUNDARIA</td>\n",
       "      <td>0.178265</td>\n",
       "      <td>0.603360</td>\n",
       "      <td>6732</td>\n",
       "      <td>✅ Conservar</td>\n",
       "    </tr>\n",
       "    <tr>\n",
       "      <th>21</th>\n",
       "      <td>APROBACIÓN_MEDIA</td>\n",
       "      <td>0.150840</td>\n",
       "      <td>0.692492</td>\n",
       "      <td>2196</td>\n",
       "      <td>✅ Conservar</td>\n",
       "    </tr>\n",
       "    <tr>\n",
       "      <th>22</th>\n",
       "      <td>APROBACIÓN_SECUNDARIA</td>\n",
       "      <td>0.095989</td>\n",
       "      <td>0.370243</td>\n",
       "      <td>2903</td>\n",
       "      <td>✅ Conservar</td>\n",
       "    </tr>\n",
       "    <tr>\n",
       "      <th>23</th>\n",
       "      <td>COBERTURA_NETA_TRANSICIÓN</td>\n",
       "      <td>0.061707</td>\n",
       "      <td>0.356531</td>\n",
       "      <td>5021</td>\n",
       "      <td>✅ Conservar</td>\n",
       "    </tr>\n",
       "    <tr>\n",
       "      <th>24</th>\n",
       "      <td>COBERTURA_NETA</td>\n",
       "      <td>0.054851</td>\n",
       "      <td>0.761056</td>\n",
       "      <td>5276</td>\n",
       "      <td>✅ Conservar</td>\n",
       "    </tr>\n",
       "    <tr>\n",
       "      <th>25</th>\n",
       "      <td>COBERTURA_BRUTA_TRANSICIÓN</td>\n",
       "      <td>0.054851</td>\n",
       "      <td>0.665067</td>\n",
       "      <td>6286</td>\n",
       "      <td>✅ Conservar</td>\n",
       "    </tr>\n",
       "    <tr>\n",
       "      <th>26</th>\n",
       "      <td>COBERTURA_NETA_PRIMARIA</td>\n",
       "      <td>0.054851</td>\n",
       "      <td>0.623929</td>\n",
       "      <td>5269</td>\n",
       "      <td>✅ Conservar</td>\n",
       "    </tr>\n",
       "    <tr>\n",
       "      <th>27</th>\n",
       "      <td>COBERTURA_BRUTA_PRIMARIA</td>\n",
       "      <td>0.054851</td>\n",
       "      <td>0.555365</td>\n",
       "      <td>6554</td>\n",
       "      <td>✅ Conservar</td>\n",
       "    </tr>\n",
       "    <tr>\n",
       "      <th>28</th>\n",
       "      <td>COBERTURA_BRUTA</td>\n",
       "      <td>0.054851</td>\n",
       "      <td>0.466232</td>\n",
       "      <td>6147</td>\n",
       "      <td>✅ Conservar</td>\n",
       "    </tr>\n",
       "    <tr>\n",
       "      <th>29</th>\n",
       "      <td>TASA_MATRICULACIÓN_5_16</td>\n",
       "      <td>0.034282</td>\n",
       "      <td>0.788481</td>\n",
       "      <td>5826</td>\n",
       "      <td>✅ Conservar</td>\n",
       "    </tr>\n",
       "    <tr>\n",
       "      <th>30</th>\n",
       "      <td>APROBACIÓN</td>\n",
       "      <td>0.020569</td>\n",
       "      <td>0.171409</td>\n",
       "      <td>2128</td>\n",
       "      <td>✅ Conservar</td>\n",
       "    </tr>\n",
       "    <tr>\n",
       "      <th>31</th>\n",
       "      <td>APROBACIÓN_PRIMARIA</td>\n",
       "      <td>0.020569</td>\n",
       "      <td>0.171409</td>\n",
       "      <td>1976</td>\n",
       "      <td>✅ Conservar</td>\n",
       "    </tr>\n",
       "    <tr>\n",
       "      <th>32</th>\n",
       "      <td>CÓDIGO_MUNICIPIO</td>\n",
       "      <td>0.020569</td>\n",
       "      <td>0.000000</td>\n",
       "      <td>1123</td>\n",
       "      <td>✅ Conservar</td>\n",
       "    </tr>\n",
       "    <tr>\n",
       "      <th>33</th>\n",
       "      <td>CÓDIGO_DEPARTAMENTO</td>\n",
       "      <td>0.020569</td>\n",
       "      <td>0.000000</td>\n",
       "      <td>34</td>\n",
       "      <td>✅ Conservar</td>\n",
       "    </tr>\n",
       "    <tr>\n",
       "      <th>34</th>\n",
       "      <td>CÓDIGO_ETC</td>\n",
       "      <td>0.020569</td>\n",
       "      <td>0.000000</td>\n",
       "      <td>194</td>\n",
       "      <td>✅ Conservar</td>\n",
       "    </tr>\n",
       "    <tr>\n",
       "      <th>35</th>\n",
       "      <td>TAMAÑO_PROMEDIO_DE_GRUPO</td>\n",
       "      <td>0.000000</td>\n",
       "      <td>48.083648</td>\n",
       "      <td>4232</td>\n",
       "      <td>✅ Conservar</td>\n",
       "    </tr>\n",
       "    <tr>\n",
       "      <th>36</th>\n",
       "      <td>POBLACIÓN_5_16</td>\n",
       "      <td>0.000000</td>\n",
       "      <td>0.041138</td>\n",
       "      <td>8527</td>\n",
       "      <td>✅ Conservar</td>\n",
       "    </tr>\n",
       "    <tr>\n",
       "      <th>37</th>\n",
       "      <td>AÑO</td>\n",
       "      <td>0.000000</td>\n",
       "      <td>0.000000</td>\n",
       "      <td>13</td>\n",
       "      <td>✅ Conservar</td>\n",
       "    </tr>\n",
       "    <tr>\n",
       "      <th>38</th>\n",
       "      <td>MUNICIPIO</td>\n",
       "      <td>0.000000</td>\n",
       "      <td>0.000000</td>\n",
       "      <td>1037</td>\n",
       "      <td>✅ Conservar</td>\n",
       "    </tr>\n",
       "    <tr>\n",
       "      <th>39</th>\n",
       "      <td>DEPARTAMENTO</td>\n",
       "      <td>0.000000</td>\n",
       "      <td>0.000000</td>\n",
       "      <td>36</td>\n",
       "      <td>✅ Conservar</td>\n",
       "    </tr>\n",
       "    <tr>\n",
       "      <th>40</th>\n",
       "      <td>ETC</td>\n",
       "      <td>0.000000</td>\n",
       "      <td>0.000000</td>\n",
       "      <td>100</td>\n",
       "      <td>✅ Conservar</td>\n",
       "    </tr>\n",
       "  </tbody>\n",
       "</table>\n",
       "</div>"
      ],
      "text/plain": [
       "                        Columna  % de Ceros    % Nulos  Valores Únicos  \\\n",
       "0         APROBACIÓN_TRANSICIÓN   70.826191   0.637641             660   \n",
       "1        REPROBACIÓN_TRANSICIÓN   70.826191   0.637641             660   \n",
       "2         REPITENCIA_TRANSICIÓN   54.268084   1.090161             876   \n",
       "3              REPITENCIA_MEDIA   29.852588   0.953034             963   \n",
       "4          REPROBACIÓN_PRIMARIA   20.692492   0.665067            1487   \n",
       "5        REPROBACIÓN_SECUNDARIA   20.527940   0.726774            2211   \n",
       "6             REPROBACIÓN_MEDIA   18.964690   0.994172            1600   \n",
       "7                   REPROBACIÓN   11.141584   0.589647            1569   \n",
       "8         REPITENCIA_SECUNDARIA   11.025026   1.042167            1770   \n",
       "9           REPITENCIA_PRIMARIA    9.729174   1.014741            1495   \n",
       "10         DESERCIÓN_TRANSICIÓN    8.357902   6.191292            1157   \n",
       "11                   REPITENCIA    6.102160   0.980459            1401   \n",
       "12              DESERCIÓN_MEDIA    4.785739   5.032568            1199   \n",
       "13           DESERCIÓN_PRIMARIA    2.434008   1.659239            1001   \n",
       "14  SEDES_CONECTADAS_A_INTERNET    1.947206  46.739801            1402   \n",
       "15         DESERCIÓN_SECUNDARIA    1.336990   1.851217            1426   \n",
       "16                    DESERCIÓN    0.377100   0.973603            1086   \n",
       "17         COBERTURA_NETA_MEDIA    0.342818   0.637641            5049   \n",
       "18        COBERTURA_BRUTA_MEDIA    0.294823   0.870758            6628   \n",
       "19    COBERTURA_NETA_SECUNDARIA    0.178265   0.644498            5581   \n",
       "20   COBERTURA_BRUTA_SECUNDARIA    0.178265   0.603360            6732   \n",
       "21             APROBACIÓN_MEDIA    0.150840   0.692492            2196   \n",
       "22        APROBACIÓN_SECUNDARIA    0.095989   0.370243            2903   \n",
       "23    COBERTURA_NETA_TRANSICIÓN    0.061707   0.356531            5021   \n",
       "24               COBERTURA_NETA    0.054851   0.761056            5276   \n",
       "25   COBERTURA_BRUTA_TRANSICIÓN    0.054851   0.665067            6286   \n",
       "26      COBERTURA_NETA_PRIMARIA    0.054851   0.623929            5269   \n",
       "27     COBERTURA_BRUTA_PRIMARIA    0.054851   0.555365            6554   \n",
       "28              COBERTURA_BRUTA    0.054851   0.466232            6147   \n",
       "29      TASA_MATRICULACIÓN_5_16    0.034282   0.788481            5826   \n",
       "30                   APROBACIÓN    0.020569   0.171409            2128   \n",
       "31          APROBACIÓN_PRIMARIA    0.020569   0.171409            1976   \n",
       "32             CÓDIGO_MUNICIPIO    0.020569   0.000000            1123   \n",
       "33          CÓDIGO_DEPARTAMENTO    0.020569   0.000000              34   \n",
       "34                   CÓDIGO_ETC    0.020569   0.000000             194   \n",
       "35     TAMAÑO_PROMEDIO_DE_GRUPO    0.000000  48.083648            4232   \n",
       "36               POBLACIÓN_5_16    0.000000   0.041138            8527   \n",
       "37                          AÑO    0.000000   0.000000              13   \n",
       "38                    MUNICIPIO    0.000000   0.000000            1037   \n",
       "39                 DEPARTAMENTO    0.000000   0.000000              36   \n",
       "40                          ETC    0.000000   0.000000             100   \n",
       "\n",
       "                                    Sugerencia  \n",
       "0   ❌ Revisar (muchos ceros/nulos o constante)  \n",
       "1   ❌ Revisar (muchos ceros/nulos o constante)  \n",
       "2   ❌ Revisar (muchos ceros/nulos o constante)  \n",
       "3                                  ✅ Conservar  \n",
       "4                                  ✅ Conservar  \n",
       "5                                  ✅ Conservar  \n",
       "6                                  ✅ Conservar  \n",
       "7                                  ✅ Conservar  \n",
       "8                                  ✅ Conservar  \n",
       "9                                  ✅ Conservar  \n",
       "10                                 ✅ Conservar  \n",
       "11                                 ✅ Conservar  \n",
       "12                                 ✅ Conservar  \n",
       "13                                 ✅ Conservar  \n",
       "14                                 ✅ Conservar  \n",
       "15                                 ✅ Conservar  \n",
       "16                                 ✅ Conservar  \n",
       "17                                 ✅ Conservar  \n",
       "18                                 ✅ Conservar  \n",
       "19                                 ✅ Conservar  \n",
       "20                                 ✅ Conservar  \n",
       "21                                 ✅ Conservar  \n",
       "22                                 ✅ Conservar  \n",
       "23                                 ✅ Conservar  \n",
       "24                                 ✅ Conservar  \n",
       "25                                 ✅ Conservar  \n",
       "26                                 ✅ Conservar  \n",
       "27                                 ✅ Conservar  \n",
       "28                                 ✅ Conservar  \n",
       "29                                 ✅ Conservar  \n",
       "30                                 ✅ Conservar  \n",
       "31                                 ✅ Conservar  \n",
       "32                                 ✅ Conservar  \n",
       "33                                 ✅ Conservar  \n",
       "34                                 ✅ Conservar  \n",
       "35                                 ✅ Conservar  \n",
       "36                                 ✅ Conservar  \n",
       "37                                 ✅ Conservar  \n",
       "38                                 ✅ Conservar  \n",
       "39                                 ✅ Conservar  \n",
       "40                                 ✅ Conservar  "
      ]
     },
     "execution_count": 82,
     "metadata": {},
     "output_type": "execute_result"
    }
   ],
   "source": [
    "# Tabla resumen resumen por columna\n",
    "summary = pd.DataFrame({\n",
    "    'Columna': data.columns,\n",
    "    '% de Ceros': (data == 0).sum() / len(data) * 100,\n",
    "    '% Nulos': data.isnull().sum() / len(data) * 100,\n",
    "    'Valores Únicos': data.nunique()\n",
    "}).sort_values(['% de Ceros', '% Nulos'], ascending=False)\n",
    "\n",
    "# Agregar una sugerencia automatizada\n",
    "summary['Sugerencia'] = summary.apply(\n",
    "    lambda row: '❌ Revisar (muchos ceros/nulos o constante)' \n",
    "        if (row['% de Ceros'] > 50 or row['% Nulos'] > 50 or row['Valores Únicos'] <= 1)\n",
    "    else '⚠️ Considerar (alta proporción de ceros o pocos valores)'\n",
    "        if (row['% de Ceros'] > 30 or row['Valores Únicos'] <= 3)\n",
    "    else '✅ Conservar', axis=1\n",
    ")\n",
    "\n",
    "# Mostrar las columnas más problemáticas primero\n",
    "summary.reset_index(drop=True, inplace=True)\n",
    "summary.head(41)  # Puedes cambiar el número de filas mostradas"
   ]
  },
  {
   "cell_type": "markdown",
   "id": "1145d3bf",
   "metadata": {},
   "source": [
    "#  CONSIDERACIONES PARCIALES para Evaluar columnas a eliminar: \n",
    "\n",
    "1. Las columnas 'TAMAÑO_PROMEDIO_DE_GRUPO' y 'SEDES_CONECTADAS_A_INTERNET' presentan 7013 y 6817 valores nulos respectivamentes se eliminan del dataset ya que no aportan significativamenta a la evaluacin e hipotesis tomada en cuanta como objeto de estudio. \n",
    "\n",
    "2. Las columnas 'APROBACIÓN_TRANSICIÓN' y 'REPROBACIÓN_TRANSICIÓN' estan duplicadas, se decidirà cual dejar.\n",
    "\n",
    "3. las columnas tipo id y códigos se deben análizar para decidir cuales eliminar.\n",
    "\n",
    "4. REPITENCIA_TRANSICIÓN en la tabla resumen por columna arroja una sugerencia de Revisar, sin ebargo debido a al significado de los velores, donde, 0 es el mejor valor ya que los casos de repitencia son bajos, entonces seguimos considerando esta columna para nuestro estudio.(mientras sea o hay menos niños repitientiendo el periodo escolar)"
   ]
  },
  {
   "cell_type": "code",
   "execution_count": null,
   "id": "af44ff1b",
   "metadata": {},
   "outputs": [],
   "source": [
    "#Eliminar columnas innecesarias para el análisis ()"
   ]
  }
 ],
 "metadata": {
  "kernelspec": {
   "display_name": "Python 3",
   "language": "python",
   "name": "python3"
  },
  "language_info": {
   "codemirror_mode": {
    "name": "ipython",
    "version": 3
   },
   "file_extension": ".py",
   "mimetype": "text/x-python",
   "name": "python",
   "nbconvert_exporter": "python",
   "pygments_lexer": "ipython3",
   "version": "3.13.3"
  }
 },
 "nbformat": 4,
 "nbformat_minor": 5
}
