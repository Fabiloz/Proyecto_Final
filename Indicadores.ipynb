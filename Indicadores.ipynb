{
 "cells": [
  {
   "cell_type": "markdown",
   "id": "b28eaa1e",
   "metadata": {},
   "source": [
    "Indicadores Educativos  "
   ]
  }
 ],
 "metadata": {
  "language_info": {
   "name": "python"
  }
 },
 "nbformat": 4,
 "nbformat_minor": 5
}
